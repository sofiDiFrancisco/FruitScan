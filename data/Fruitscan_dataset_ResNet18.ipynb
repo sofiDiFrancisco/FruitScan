{
 "cells": [
  {
   "cell_type": "markdown",
   "metadata": {},
   "source": [
    "# Clasificación de Frutas Frescas vs. Podridas con ResNet18\n",
    "## Notebook de Entrenamiento e Inferencia\n",
    "\n",
    "Este notebook implementa un modelo de clasificación de imágenes para distinguir entre frutas frescas y podridas utilizando transfer learning con ResNet18."
   ]
  },
  {
   "cell_type": "markdown",
   "metadata": {},
   "source": [
    "## 1. Configuración Inicial"
   ]
  },
  {
   "cell_type": "code",
   "execution_count": null,
   "metadata": {},
   "outputs": [],
   "source": [
    "# Importación de librerías\n",
    "import kagglehub\n",
    "import torch\n",
    "import torch.nn as nn\n",
    "import torch.optim as optim\n",
    "from torchvision import models, datasets, transforms\n",
    "from torch.utils.data import DataLoader\n",
    "import matplotlib.pyplot as plt\n",
    "import os\n",
    "from google.colab import drive\n",
    "from PIL import Image\n",
    "\n",
    "print(\"✅ Librerías importadas correctamente\")"
   ]
  },
  {
   "cell_type": "markdown",
   "metadata": {},
   "source": [
    "## 2. Descarga y Preparación del Dataset"
   ]
  },
  {
   "cell_type": "code",
   "execution_count": null,
   "metadata": {},
   "outputs": [],
   "source": [
    "try:\n",
    "    # Descarga del dataset desde Kaggle\n",
    "    path = kagglehub.dataset_download(\"sriramr/fruits-fresh-and-rotten-for-classification\")\n",
    "    print(\"✅ Dataset descargado correctamente\")\n",
    "    print(\"Path to dataset files:\", path)\n",
    "\n",
    "    # Configuración básica\n",
    "    batch_size = 128  # Tamaño reducido para evitar problemas de memoria\n",
    "    img_size = 224    # Tamaño requerido por ResNet\n",
    "    device = torch.device(\"cuda\" if torch.cuda.is_available() else \"cpu\")\n",
    "    print(f\"🚀 Dispositivo de ejecución: {device}\")\n",
    "\n",
    "    # Transformaciones para las imágenes\n",
    "    transform = transforms.Compose([\n",
    "        transforms.Resize((img_size, img_size)),\n",
    "        transforms.ToTensor(),\n",
    "        transforms.Normalize(mean=[0.485, 0.456, 0.406], std=[0.229, 0.224, 0.225])\n",
    "    ])\n",
    "    print(\"✅ Configuración y transformaciones definidas\")"
   ]
  },
  {
   "cell_type": "markdown",
   "metadata": {},
   "source": [
    "## 3. Carga de Datos y Preprocesamiento"
   ]
  },
  {
   "cell_type": "code",
   "execution_count": null,
   "metadata": {},
   "outputs": [],
   "source": [
    "# Carga de datasets\n",
    "train_data_dir = os.path.join(path, 'dataset', 'train')\n",
    "val_data_dir = os.path.join(path, 'dataset', 'test')\n",
    "\n",
    "train_dataset = datasets.ImageFolder(root=train_data_dir, transform=transform)\n",
    "val_dataset = datasets.ImageFolder(root=val_data_dir, transform=transform)\n",
    "\n",
    "# Información sobre los datos\n",
    "class_names = train_dataset.classes\n",
    "print(f\"🔍 Clases detectadas: {class_names}\")\n",
    "print(f\"📊 Total de imágenes de entrenamiento: {len(train_dataset)}\")\n",
    "print(f\"📊 Total de imágenes de validación: {len(val_dataset)}\")\n",
    "\n",
    "# Creación de DataLoaders\n",
    "train_loader = DataLoader(train_dataset, batch_size=batch_size, shuffle=True)\n",
    "val_loader = DataLoader(val_dataset, batch_size=batch_size)\n",
    "print(\"✅ Dataset cargado y dividido correctamente\")"
   ]
  },
  {
   "cell_type": "markdown",
   "metadata": {},
   "source": [
    "## 4. Configuración del Modelo (Transfer Learning)"
   ]
  },
  {
   "cell_type": "code",
   "execution_count": null,
   "metadata": {},
   "outputs": [],
   "source": [
    "# Carga de ResNet18 pre-entrenada\n",
    "model = models.resnet18(pretrained=True)\n",
    "print(\"🎯 ResNet18 cargado (pre-entrenado en ImageNet)\")\n",
    "\n",
    "# Congelación de parámetros\n",
    "for param in model.parameters():\n",
    "    param.requires_grad = False\n",
    "print(\"❄️ Parámetros congelados (excepto última capa)\")\n",
    "\n",
    "# Modificación de la última capa\n",
    "num_features = model.fc.in_features\n",
    "model.fc = nn.Linear(num_features, len(class_names))\n",
    "print(f\"🔄 Capa FC reemplazada para {len(class_names)} clases\")\n",
    "\n",
    "# Movimiento del modelo al dispositivo\n",
    "model = model.to(device)\n",
    "print(f\"📌 Modelo movido a {device}\")\n",
    "print(\"✅ Modelo definido correctamente\")"
   ]
  },
  {
   "cell_type": "markdown",
   "metadata": {},
   "source": [
    "## 5. Configuración del Entrenamiento"
   ]
  },
  {
   "cell_type": "code",
   "execution_count": null,
   "metadata": {},
   "outputs": [],
   "source": [
    "# Definición de función de pérdida y optimizador\n",
    "criterion = nn.CrossEntropyLoss()\n",
    "optimizer = optim.Adam(model.fc.parameters(), lr=0.001)\n",
    "epochs = 10\n",
    "\n",
    "print(\"⚙️ Configuración de entrenamiento:\")\n",
    "print(f\"- Función de pérdida: {criterion.__class__.__name__}\")\n",
    "print(f\"- Optimizador: {optimizer.__class__.__name__} (lr=0.001)\")\n",
    "print(f\"- Épocas: {epochs}\")\n",
    "print(\"✅ Configuración de entrenamiento completada\")"
   ]
  },
  {
   "cell_type": "markdown",
   "metadata": {},
   "source": [
    "## 6. Proceso de Entrenamiento"
   ]
  },
  {
   "cell_type": "code",
   "execution_count": null,
   "metadata": {},
   "outputs": [],
   "source": [
    "# Listas para métricas\n",
    "train_losses = []\n",
    "val_losses = []\n",
    "val_accuracies = []\n",
    "\n",
    "print(\"🚀 Comenzando entrenamiento...\")\n",
    "\n",
    "for epoch in range(epochs):\n",
    "    # Fase de entrenamiento\n",
    "    model.train()\n",
    "    running_loss = 0.0\n",
    "    \n",
    "    for images, labels in train_loader:\n",
    "        images, labels = images.to(device), labels.to(device)\n",
    "        optimizer.zero_grad()\n",
    "        outputs = model(images)\n",
    "        loss = criterion(outputs, labels)\n",
    "        loss.backward()\n",
    "        optimizer.step()\n",
    "        running_loss += loss.item()\n",
    "    \n",
    "    epoch_loss = running_loss / len(train_loader)\n",
    "    train_losses.append(epoch_loss)\n",
    "    \n",
    "    # Fase de validación\n",
    "    model.eval()\n",
    "    val_loss = 0.0\n",
    "    correct = 0\n",
    "    total = 0\n",
    "    \n",
    "    with torch.no_grad():\n",
    "        for images, labels in val_loader:\n",
    "            images, labels = images.to(device), labels.to(device)\n",
    "            outputs = model(images)\n",
    "            loss = criterion(outputs, labels)\n",
    "            val_loss += loss.item()\n",
    "            \n",
    "            _, predicted = torch.max(outputs.data, 1)\n",
    "            total += labels.size(0)\n",
    "            correct += (predicted == labels).sum().item()\n",
    "    \n",
    "    val_loss /= len(val_loader)\n",
    "    val_losses.append(val_loss)\n",
    "    \n",
    "    accuracy = 100 * correct / total\n",
    "    val_accuracies.append(accuracy)\n",
    "    \n",
    "    # Progreso\n",
    "    print(f\"✅ Epoch {epoch+1}/{epochs} - \"\n",
    "          f\"Train Loss: {epoch_loss:.4f} - \"\n",
    "          f\"Val Loss: {val_loss:.4f} - \"\n",
    "          f\"Accuracy: {accuracy:.2f}%\")\n",
    "\n",
    "print(\"🎉 Entrenamiento completado!\")"
   ]
  },
  {
   "cell_type": "markdown",
   "metadata": {},
   "source": [
    "## 7. Visualización de Resultados"
   ]
  },
  {
   "cell_type": "code",
   "execution_count": null,
   "metadata": {},
   "outputs": [],
   "source": [
    "# Gráficos de pérdida y precisión\n",
    "plt.figure(figsize=(12, 5))\n",
    "\n",
    "# Gráfico de pérdidas\n",
    "plt.subplot(1, 2, 1)\n",
    "plt.plot(train_losses, label='Entrenamiento')\n",
    "plt.plot(val_losses, label='Validación')\n",
    "plt.xlabel('Épocas')\n",
    "plt.ylabel('Pérdida')\n",
    "plt.title('Curva de Pérdida')\n",
    "plt.legend()\n",
    "\n",
    "# Gráfico de precisión\n",
    "plt.subplot(1, 2, 2)\n",
    "plt.plot(val_accuracies, label='Validación', color='green')\n",
    "plt.xlabel('Épocas')\n",
    "plt.ylabel('Precisión (%)')\n",
    "plt.title('Precisión en Validación')\n",
    "plt.legend()\n",
    "\n",
    "plt.tight_layout()\n",
    "plt.show()"
   ]
  },
  {
   "cell_type": "markdown",
   "metadata": {},
   "source": [
    "## 8. Guardado del Modelo"
   ]
  },
  {
   "cell_type": "code",
   "execution_count": null,
   "metadata": {},
   "outputs": [],
   "source": [
    "try:\n",
    "    model_path = \"modelo.pth\"\n",
    "    torch.save(model.state_dict(), model_path)\n",
    "    print(f\"\\n💾 Modelo guardado como: {model_path}\")\n",
    "    print(f\"Tamaño del archivo: {os.path.getsize(model_path)/1024:.2f} KB\")\n",
    "except Exception as e:\n",
    "    print(f\"❌ Error al guardar el modelo: {e}\")"
   ]
  },
  {
   "cell_type": "markdown",
   "metadata": {},
   "source": [
    "## 9. Fase de Inferencia"
   ]
  },
  {
   "cell_type": "code",
   "execution_count": null,
   "metadata": {},
   "outputs": [],
   "source": [
    "print(\"\\n--- Fase de Inferencia ---\")\n",
    "# Selección de imagen de ejemplo\n",
    "sample_image_path, _ = val_dataset.samples[0]\n",
    "print(f\"⏳ Realizando inferencia en la imagen: {sample_image_path}\")\n",
    "\n",
    "# Preprocesamiento\n",
    "image = Image.open(sample_image_path).convert('RGB')\n",
    "image = transform(image).unsqueeze(0).to(device)\n",
    "\n",
    "# Inferencia\n",
    "model.eval()\n",
    "with torch.no_grad():\n",
    "    outputs = model(image)\n",
    "    _, predicted_class_index = torch.max(outputs, 1)\n",
    "\n",
    "# Resultado\n",
    "predicted_class_name = class_names[predicted_class_index.item()]\n",
    "print(f\"✅ La fruta detectada es: {predicted_class_name}\")"
   ]
  },
  {
   "cell_type": "markdown",
   "metadata": {},
   "source": [
    "## 10. Manejo de Errores"
   ]
  },
  {
   "cell_type": "code",
   "execution_count": null,
   "metadata": {},
   "outputs": [],
   "source": [
    "except Exception as e:\n",
    "    print(f\"❌ An unexpected error occurred: {e}\")"
   ]
  }
 ],
 "metadata": {
  "kernelspec": {
   "display_name": "Python 3",
   "language": "python",
   "name": "python3"
  },
  "language_info": {
   "codemirror_mode": {
    "name": "ipython",
    "version": 3
   },
   "file_extension": ".py",
   "mimetype": "text/x-python",
   "name": "python",
   "nbconvert_exporter": "python",
   "pygments_lexer": "ipython3",
   "version": "3.8.5"
  }
 },
 "nbformat": 4,
 "nbformat_minor": 4
}
