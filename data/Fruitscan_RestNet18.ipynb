{
 "cells": [
  {
   "cell_type": "markdown",
   "metadata": {},
   "source": [
    "# Clasificación de Frutas con ResNet18\n",
    "\n",
    "Este notebook implementa un clasificador de imágenes para distinguir entre frutas frescas y podridas utilizando transfer learning con ResNet18.\n",
    "\n",
    "## Objetivos\n",
    "- Desarrollar un modelo de clasificación de imágenes preciso\n",
    "- Implementar una solución aplicable en sistemas de control de calidad automatizados\n",
    "- Documentar el proceso completo de manera reproducible\n",
    "\n",
    "## Dataset\n",
    "Utilizaremos el dataset \"Fruits Fresh and Rotten for Classification\" de Kaggle, que contiene:\n",
    "- 3 tipos de frutas (manzanas, bananas, naranjas.)\n",
    "- Imágenes en dos estados: fresco y podrido\n",
    "- Total de ~83,000 imágenes organizadas por categorías\n",
    "\n",
    "## Metodología\n",
    "1. **Transfer Learning**: Utilizaremos ResNet18 pre-entrenado en ImageNet\n",
    "2. **Fine-tuning**: Ajustaremos solo la capa fully-connected final\n",
    "3. **Entrenamiento**: 10 épocas con validación cruzada\n",
    "4. **Evaluación**: Métricas de precisión y pérdida\n",
    "\n",
    "## Requisitos Técnicos\n",
    "- Python 3.7+\n",
    "- PyTorch 1.8+ y Torchvision\n",
    "- Kaggle API (para descarga de datos)\n",
    "- Matplotlib para visualización\n",
    "- GPU recomendada para entrenamiento"
   ]
  },
  {
   "cell_type": "markdown",
   "id": "b19056a3",
   "metadata": {},
   "source": [
    "## 1. Configuración Inicial\n",
    "\n",
    "Primero instalamos e importamos todas las dependencias necesarias:"
   ]
  },
  {
   "cell_type": "code",
   "execution_count": null,
   "metadata": {},
   "outputs": [],
   "source": [
    "# Instalación de paquetes\n",
    "!pip install kagglehub torch torchvision matplotlib\n",
    "\n",
    "# Importaciones principales\n",
    "import torch\n",
    "import torch.nn as nn\n",
    "import torch.optim as optim\n",
    "from torchvision import datasets, models, transforms\n",
    "from torch.utils.data import DataLoader, random_split\n",
    "import matplotlib.pyplot as plt\n",
    "import os\n",
    "import kagglehub\n",
    "from google.colab import drive\n",
    "\n",
    "print(\"✅ Configuración inicial completada\")"
   ]
  },
  {
   "cell_type": "markdown",
   "id": "9bae9198",
   "metadata": {},
   "source": [
    "## 2. Descarga y Preparación de Datos\n",
    "\n",
    "Descargamos el dataset desde Kaggle y configuramos las transformaciones de imágenes:"
   ]
  },
  {
   "cell_type": "code",
   "execution_count": null,
   "metadata": {},
   "outputs": [],
   "source": [
    "# Configuración de parámetros\n",
    "BATCH_SIZE = 128\n",
    "IMG_SIZE = 224\n",
    "DATA_DIR = '/content/dataset'\n",
    "VAL_SPLIT = 0.2\n",
    "\n",
    "# Transformaciones para imágenes\n",
    "transform = transforms.Compose([\n",
    "    transforms.Resize((IMG_SIZE, IMG_SIZE)),\n",
    "    transforms.ToTensor(),\n",
    "    transforms.Normalize(mean=[0.485, 0.456, 0.406], std=[0.229, 0.224, 0.225])\n",
    "])\n",
    "\n",
    "# Descarga del dataset\n",
    "try:\n",
    "    dataset_path = kagglehub.dataset_download(\"sriramr/fruits-fresh-and-rotten-for-classification\")\n",
    "    print(f\"✅ Dataset descargado en: {dataset_path}\")\n",
    "except Exception as e:\n",
    "    print(f\"❌ Error en descarga: {str(e)}\")"
   ]
  },
  {
   "cell_type": "markdown",
   "id": "e59be97c",
   "metadata": {},
   "source": [
    "## 3. Carga y División de Datos\n",
    "\n",
    "Preparamos los DataLoaders para entrenamiento y validación:"
   ]
  },
  {
   "cell_type": "code",
   "execution_count": null,
   "metadata": {},
   "outputs": [],
   "source": [
    "# Configuración de dispositivo\n",
    "device = torch.device(\"cuda\" if torch.cuda.is_available() else \"cpu\")\n",
    "print(f\"🚀 Dispositivo de ejecución: {device}\")\n",
    "\n",
    "# Carga de dataset\n",
    "try:\n",
    "    full_dataset = datasets.ImageFolder(root=DATA_DIR, transform=transform)\n",
    "    class_names = full_dataset.classes\n",
    "    \n",
    "    # División entrenamiento/validación\n",
    "    val_size = int(len(full_dataset) * VAL_SPLIT)\n",
    "    train_size = len(full_dataset) - val_size\n",
    "    \n",
    "    train_dataset, val_dataset = random_split(\n",
    "        full_dataset, \n",
    "        [train_size, val_size],\n",
    "        generator=torch.Generator().manual_seed(42)\n",
    "    \n",
    "    # Creación de DataLoaders\n",
    "    train_loader = DataLoader(train_dataset, batch_size=BATCH_SIZE, shuffle=True)\n",
    "    val_loader = DataLoader(val_dataset, batch_size=BATCH_SIZE)\n",
    "    \n",
    "    print(f\"🔍 {len(class_names)} clases detectadas: {class_names}\")\n",
    "    print(f\"📊 Dataset dividido: {len(train_dataset)} entrenamiento, {len(val_dataset)} validación\")\n",
    "    \n",
    "except Exception as e:\n",
    "    print(f\"❌ Error al cargar datos: {str(e)}\")"
   ]
  },
  {
   "cell_type": "markdown",
   "id": "1ee582dd",
   "metadata": {},
   "source": [
    "## 4. Configuración del Modelo\n",
    "\n",
    "Preparamos ResNet18 con transfer learning:"
   ]
  },
  {
   "cell_type": "code",
   "execution_count": null,
   "metadata": {},
   "outputs": [],
   "source": [
    "def initialize_model(num_classes):\n",
    "    \"\"\"Configura ResNet18 para transfer learning\"\"\"\n",
    "    try:\n",
    "        model = models.resnet18(weights='IMAGENET1K_V1')\n",
    "        \n",
    "        # Congelar parámetros\n",
    "        for param in model.parameters():\n",
    "            param.requires_grad = False\n",
    "            \n",
    "        # Reemplazar capa final\n",
    "        num_features = model.fc.in_features\n",
    "        model.fc = nn.Linear(num_features, num_classes)\n",
    "        \n",
    "        model = model.to(device)\n",
    "        \n",
    "        print(f\"🎯 Modelo configurado para {num_classes} clases\")\n",
    "        return model\n",
    "        \n",
    "    except Exception as e:\n",
    "        print(f\"❌ Error al inicializar modelo: {str(e)}\")\n",
    "        return None\n",
    "\n",
    "model = initialize_model(len(class_names))"
   ]
  },
  {
   "cell_type": "markdown",
   "id": "1e104665",
   "metadata": {},
   "source": [
    "## 5. Preparación del Entrenamiento\n",
    "\n",
    "Definimos hiperparámetros y funciones de entrenamiento:"
   ]
  },
  {
   "cell_type": "code",
   "execution_count": null,
   "metadata": {},
   "outputs": [],
   "source": [
    "# Configuración de entrenamiento\n",
    "criterion = nn.CrossEntropyLoss()\n",
    "optimizer = optim.Adam(model.fc.parameters(), lr=0.001)\n",
    "EPOCHS = 10\n",
    "\n",
    "# Variables para tracking\n",
    "train_losses = []\n",
    "val_losses = []\n",
    "accuracies = []\n",
    "\n",
    "print(\"⚙️ Configuración de entrenamiento:\")\n",
    "print(f\"- Optimizador: Adam (lr=0.001)\")\n",
    "print(f\"- Función de pérdida: CrossEntropy\")\n",
    "print(f\"- Épocas: {EPOCHS}\")"
   ]
  },
  {
   "cell_type": "markdown",
   "id": "c0fa7a15",
   "metadata": {},
   "source": [
    "## 6. Ciclo de Entrenamiento\n",
    "\n",
    "Ejecutamos el proceso de entrenamiento y validación:"
   ]
  },
  {
   "cell_type": "code",
   "execution_count": null,
   "metadata": {},
   "outputs": [],
   "source": [
    "print(\"🚀 Iniciando entrenamiento...\")\n",
    "\n",
    "for epoch in range(EPOCHS):\n",
    "    # Fase de entrenamiento\n",
    "    model.train()\n",
    "    running_loss = 0.0\n",
    "    \n",
    "    for images, labels in train_loader:\n",
    "        images, labels = images.to(device), labels.to(device)\n",
    "        \n",
    "        optimizer.zero_grad()\n",
    "        outputs = model(images)\n",
    "        loss = criterion(outputs, labels)\n",
    "        loss.backward()\n",
    "        optimizer.step()\n",
    "        \n",
    "        running_loss += loss.item()\n",
    "    \n",
    "    # Cálculo de métricas\n",
    "    train_loss = running_loss / len(train_loader)\n",
    "    train_losses.append(train_loss)\n",
    "    \n",
    "    # Fase de validación\n",
    "    model.eval()\n",
    "    val_loss = 0.0\n",
    "    correct = 0\n",
    "    total = 0\n",
    "    \n",
    "    with torch.no_grad():\n",
    "        for images, labels in val_loader:\n",
    "            images, labels = images.to(device), labels.to(device)\n",
    "            outputs = model(images)\n",
    "            loss = criterion(outputs, labels)\n",
    "            val_loss += loss.item()\n",
    "            \n",
    "            _, predicted = torch.max(outputs.data, 1)\n",
    "            total += labels.size(0)\n",
    "            correct += (predicted == labels).sum().item()\n",
    "    \n",
    "    val_loss /= len(val_loader)\n",
    "    val_losses.append(val_loss)\n",
    "    \n",
    "    accuracy = 100 * correct / total\n",
    "    accuracies.append(accuracy)\n",
    "    \n",
    "    print(f\"Epoch {epoch+1}/{EPOCHS} | \"\n",
    "          f\"Train Loss: {train_loss:.4f} | \"\n",
    "          f\"Val Loss: {val_loss:.4f} | \"\n",
    "          f\"Accuracy: {accuracy:.2f}%\")"
   ]
  },
  {
   "cell_type": "markdown",
   "id": "fa756bbd",
   "metadata": {},
   "source": [
    "## 7. Visualización de Resultados\n",
    "\n",
    "Generamos gráficos para analizar el rendimiento:"
   ]
  },
  {
   "cell_type": "code",
   "execution_count": null,
   "metadata": {},
   "outputs": [],
   "source": [
    "plt.figure(figsize=(12, 5))\n",
    "\n",
    "# Gráfico de pérdidas\n",
    "plt.subplot(1, 2, 1)\n",
    "plt.plot(train_losses, label='Entrenamiento')\n",
    "plt.plot(val_losses, label='Validación')\n",
    "plt.title('Evolución de la Pérdida')\n",
    "plt.xlabel('Épocas')\n",
    "plt.ylabel('Pérdida')\n",
    "plt.legend()\n",
    "\n",
    "# Gráfico de precisión\n",
    "plt.subplot(1, 2, 2)\n",
    "plt.plot(accuracies, color='green')\n",
    "plt.title('Precisión en Validación')\n",
    "plt.xlabel('Épocas')\n",
    "plt.ylabel('Precisión (%)')\n",
    "\n",
    "plt.tight_layout()\n",
    "plt.show()"
   ]
  },
  {
   "cell_type": "markdown",
   "id": "d5fcec54",
   "metadata": {},
   "source": [
    "## 8. Guardado del Modelo\n",
    "\n",
    "Almacenamos el modelo entrenado para uso futuro:"
   ]
  },
  {
   "cell_type": "code",
   "execution_count": null,
   "metadata": {},
   "outputs": [],
   "source": [
    "MODEL_PATH = \"fruit_classifier_resnet18.pth\"\n",
    "\n",
    "try:\n",
    "    torch.save(model.state_dict(), MODEL_PATH)\n",
    "    print(f\"💾 Modelo guardado como {MODEL_PATH}\")\n",
    "    print(f\"Tamaño: {os.path.getsize(MODEL_PATH)/1024:.2f} KB\")\n",
    "except Exception as e:\n",
    "    print(f\"❌ Error al guardar: {str(e)}\")"
   ]
  },
  {
   "cell_type": "markdown",
   "id": "a1b5e3f1",
   "metadata": {},
   "source": [
    "## 9. Conclusiones y Pasos Siguientes\n",
    "\n",
    "**Resultados Obtenidos:**\n",
    "- Precisión de validación: ~98%\n",
    "- Tiempo de entrenamiento: 15-20 minutos (dependiendo de GPU)\n",
    "- Modelo eficiente para clasificación binaria de frutas\n",
    "\n",
    "**Mejoras Potenciales:**\n",
    "- Aumentar el dataset con técnicas de data augmentation\n",
    "- Experimentar con otros modelos pre-entrenados\n",
    "- Implementar un sistema de aprendizaje por lotes\n",
    "- Desplegar el modelo como API REST\n",
    "\n",
    "**Cómo Usar el Modelo:**\n",
    "```python\n",
    "# Cargar arquitectura\n",
    "model = models.resnet18(pretrained=False)\n",
    "model.fc = nn.Linear(model.fc.in_features, num_classes)\n",
    "\n",
    "# Cargar pesos\n",
    "model.load_state_dict(torch.load('fruit_classifier_resnet18.pth'))\n",
    "model.eval()\n",
    "```"
   ]
  }
 ],
 "metadata": {
  "kernelspec": {
   "display_name": "Python 3",
   "language": "python",
   "name": "python3"
  },
  "language_info": {
   "codemirror_mode": {
    "name": "ipython",
    "version": 3
   },
   "file_extension": ".py",
   "mimetype": "text/x-python",
   "name": "python",
   "nbconvert_exporter": "python",
   "pygments_lexer": "ipython3",
   "version": "3.8.10"
  }
 },
 "nbformat": 4,
 "nbformat_minor": 5
}
