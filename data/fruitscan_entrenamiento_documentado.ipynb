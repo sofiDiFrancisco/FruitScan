{
 "cells": [
  {
   "cell_type": "markdown",
   "id": "0add93c7",
   "metadata": {},
   "source": [
    "# Clasificación de Frutas: Entrenamiento con ResNet18\n",
    "\n",
    "Este notebook documenta paso a paso el proceso de descarga de un dataset de frutas desde Kaggle, preprocesamiento, definición del modelo (ResNet18 con aprendizaje por transferencia), entrenamiento, evaluación y guardado del modelo entrenado."
   ]
  },
  {
   "cell_type": "markdown",
   "id": "b19056a3",
   "metadata": {},
   "source": [
    "## Paso 1: Importación de Librerías"
   ]
  },
  {
   "cell_type": "code",
   "execution_count": null,
   "id": "712c4ae5",
   "metadata": {},
   "outputs": [],
   "source": [
    "import kagglehub\n",
    "import torch\n",
    "import torch.nn as nn\n",
    "import torch.optim as optim\n",
    "from torchvision import models, datasets, transforms\n",
    "from torch.utils.data import DataLoader\n",
    "import matplotlib.pyplot as plt\n",
    "import os\n",
    "from google.colab import drive"
   ]
  },
  {
   "cell_type": "markdown",
   "id": "9bae9198",
   "metadata": {},
   "source": [
    "## Paso 2: Descarga del Dataset desde Kaggle Hub"
   ]
  },
  {
   "cell_type": "code",
   "execution_count": null,
   "id": "6c0e066a",
   "metadata": {},
   "outputs": [],
   "source": [
    "path = kagglehub.dataset_download(\"sriramr/fruits-fresh-and-rotten-for-classification\")\n",
    "print(\"Path to dataset files:\", path)"
   ]
  },
  {
   "cell_type": "markdown",
   "id": "e59be97c",
   "metadata": {},
   "source": [
    "## Paso 3: Configuración Inicial y Transformaciones"
   ]
  },
  {
   "cell_type": "code",
   "execution_count": null,
   "id": "2cd62e41",
   "metadata": {},
   "outputs": [],
   "source": [
    "batch_size = 8\n",
    "img_size = 224\n",
    "device = torch.device(\"cuda\" if torch.cuda.is_available() else \"cpu\")\n",
    "data_dir = path\n",
    "\n",
    "transform = transforms.Compose([\n",
    "    transforms.Resize((img_size, img_size)),\n",
    "    transforms.ToTensor(),\n",
    "    transforms.Normalize(mean=[0.485, 0.456, 0.406],\n",
    "                         std=[0.229, 0.224, 0.225])\n",
    "])"
   ]
  },
  {
   "cell_type": "markdown",
   "id": "810b42f3",
   "metadata": {},
   "source": [
    "## Paso 4: Carga y División del Dataset"
   ]
  },
  {
   "cell_type": "code",
   "execution_count": null,
   "id": "b99a51a6",
   "metadata": {},
   "outputs": [],
   "source": [
    "full_dataset = datasets.ImageFolder(root=data_dir, transform=transform)\n",
    "class_names = full_dataset.classes\n",
    "\n",
    "val_split = 0.2\n",
    "val_size = int(len(full_dataset) * val_split)\n",
    "train_size = len(full_dataset) - val_size\n",
    "torch.manual_seed(42)\n",
    "train_dataset, val_dataset = torch.utils.data.random_split(full_dataset, [train_size, val_size])\n",
    "\n",
    "train_loader = DataLoader(train_dataset, batch_size=batch_size, shuffle=True)\n",
    "val_loader = DataLoader(val_dataset, batch_size=batch_size)"
   ]
  },
  {
   "cell_type": "markdown",
   "id": "1ee582dd",
   "metadata": {},
   "source": [
    "## Paso 5: Definición del Modelo"
   ]
  },
  {
   "cell_type": "code",
   "execution_count": null,
   "id": "060708da",
   "metadata": {},
   "outputs": [],
   "source": [
    "model = models.resnet18(pretrained=True)\n",
    "\n",
    "for param in model.parameters():\n",
    "    param.requires_grad = False\n",
    "\n",
    "num_features = model.fc.in_features\n",
    "model.fc = nn.Linear(num_features, len(class_names))\n",
    "\n",
    "model = model.to(device)"
   ]
  },
  {
   "cell_type": "markdown",
   "id": "1e104665",
   "metadata": {},
   "source": [
    "## Paso 6: Configuración del Entrenamiento"
   ]
  },
  {
   "cell_type": "code",
   "execution_count": null,
   "id": "14cd2813",
   "metadata": {},
   "outputs": [],
   "source": [
    "criterion = nn.CrossEntropyLoss()\n",
    "optimizer = optim.Adam(model.fc.parameters(), lr=0.001)\n",
    "epochs = 10"
   ]
  },
  {
   "cell_type": "markdown",
   "id": "c0fa7a15",
   "metadata": {},
   "source": [
    "## Paso 7: Entrenamiento del Modelo"
   ]
  },
  {
   "cell_type": "code",
   "execution_count": null,
   "id": "45a2b2e2",
   "metadata": {},
   "outputs": [],
   "source": [
    "train_losses = []\n",
    "val_losses = []\n",
    "\n",
    "for epoch in range(epochs):\n",
    "    model.train()\n",
    "    running_loss = 0.0\n",
    "    for images, labels in train_loader:\n",
    "        images, labels = images.to(device), labels.to(device)\n",
    "        optimizer.zero_grad()\n",
    "        outputs = model(images)\n",
    "        loss = criterion(outputs, labels)\n",
    "        loss.backward()\n",
    "        optimizer.step()\n",
    "        running_loss += loss.item()\n",
    "\n",
    "    epoch_loss = running_loss / len(train_loader)\n",
    "    train_losses.append(epoch_loss)\n",
    "\n",
    "    model.eval()\n",
    "    val_loss = 0.0\n",
    "    correct = 0\n",
    "    total = 0\n",
    "    with torch.no_grad():\n",
    "        for images, labels in val_loader:\n",
    "            images, labels = images.to(device), labels.to(device)\n",
    "            outputs = model(images)\n",
    "            loss = criterion(outputs, labels)\n",
    "            val_loss += loss.item()\n",
    "            _, predicted = torch.max(outputs.data, 1)\n",
    "            total += labels.size(0)\n",
    "            correct += (predicted == labels).sum().item()\n",
    "\n",
    "    val_loss /= len(val_loader)\n",
    "    val_losses.append(val_loss)\n",
    "    accuracy = 100 * correct / total\n",
    "    print(f\"✅ Epoch {epoch+1}/{epochs} - Loss: {epoch_loss:.4f} - Val Loss: {val_loss:.4f} - Accuracy: {accuracy:.2f}%\")"
   ]
  },
  {
   "cell_type": "markdown",
   "id": "fa756bbd",
   "metadata": {},
   "source": [
    "## Paso 8: Visualización de la Curva de Pérdida"
   ]
  },
  {
   "cell_type": "code",
   "execution_count": null,
   "id": "4233949f",
   "metadata": {},
   "outputs": [],
   "source": [
    "plt.plot(train_losses, label='Entrenamiento')\n",
    "plt.plot(val_losses, label='Validación')\n",
    "plt.xlabel('Épocas')\n",
    "plt.ylabel('Pérdida')\n",
    "plt.title('Curva de Pérdida')\n",
    "plt.legend()\n",
    "plt.show()"
   ]
  },
  {
   "cell_type": "markdown",
   "id": "d5fcec54",
   "metadata": {},
   "source": [
    "## Paso 9: Guardado del Modelo"
   ]
  },
  {
   "cell_type": "code",
   "execution_count": null,
   "id": "011d5ace",
   "metadata": {},
   "outputs": [],
   "source": [
    "model_path = \"fruitscan_model.pth\"\n",
    "torch.save(model.state_dict(), model_path)\n",
    "print(f\"\\n✅ Modelo guardado como: {model_path}\")"
   ]
  }
 ],
 "metadata": {},
 "nbformat": 4,
 "nbformat_minor": 5
}
